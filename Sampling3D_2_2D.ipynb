{
 "cells": [
  {
   "cell_type": "markdown",
   "id": "olympic-imperial",
   "metadata": {},
   "source": [
    "## Reading 3D model as triangle mesh"
   ]
  },
  {
   "cell_type": "code",
   "execution_count": 9,
   "id": "lesser-circle",
   "metadata": {},
   "outputs": [],
   "source": [
    "import numpy as np\n",
    "import open3d as o3d\n",
    "import matplotlib.pyplot as plt\n",
    "\n",
    "import keyboard\n",
    "# input_file = \"C:/Franz/UCA_M1/Semester_2/Case_studies/data/_3D_models/talus_goat_CA_AC_01_MNHN.ply\"\n",
    "input_file = \"C:/Franz/UCA_M1/Semester_2/Case_studies/data/_3D_models/flipped/talus_goat_CA_AC_01_MNHN.ply\"\n",
    "mesh = o3d.io.read_triangle_mesh(input_file)\n",
    "mesh.compute_vertex_normals()\n",
    "#vis = o3d.visualization.Visualizer()\n",
    "vis = o3d.visualization.draw_geometries([mesh],\n",
    "                                  width=255, height=255, left=20, top=20)\n",
    "#                                   zoom=0.9412,\n",
    "#                                   front=[-0.069159873620246767, -0.75484164207573079, -0.65225072423819197],\n",
    "#                                   lookat=[-0.083235890571024249, 5.3312632222438845, -1.0216309515127211],\n",
    "#                                   up=[0.010427088798928031, -0.65432747392015833, 0.75613942675438084])\n",
    "#remove_geometry()\n"
   ]
  },
  {
   "cell_type": "code",
   "execution_count": 5,
   "id": "initial-private",
   "metadata": {},
   "outputs": [],
   "source": [
    "def custom_draw_geometry_with_custom_fov(pcd, fov_step):\n",
    "    vis = o3d.visualization.Visualizer()\n",
    "    vis.create_window()\n",
    "    vis.add_geometry(pcd)\n",
    "    ctr = vis.get_view_control()\n",
    "    print(\"Field of view (before changing) %.2f\" % ctr.get_field_of_view())\n",
    "    ctr.change_field_of_view(step=fov_step)\n",
    "    print(\"Field of view (after changing) %.2f\" % ctr.get_field_of_view())\n",
    "    vis.run()\n",
    "    vis.destroy_window()"
   ]
  },
  {
   "cell_type": "code",
   "execution_count": 10,
   "id": "revolutionary-smooth",
   "metadata": {},
   "outputs": [
    {
     "name": "stdout",
     "output_type": "stream",
     "text": [
      "Field of view (before changing) 60.00\n",
      "Field of view (after changing) 5.00\n"
     ]
    }
   ],
   "source": [
    "custom_draw_geometry_with_custom_fov(mesh, -25.0)"
   ]
  },
  {
   "cell_type": "code",
   "execution_count": 11,
   "id": "persistent-generic",
   "metadata": {},
   "outputs": [
    {
     "name": "stdout",
     "output_type": "stream",
     "text": [
      "Field of view (before changing) 60.00\n",
      "Field of view (after changing) 90.00\n"
     ]
    }
   ],
   "source": [
    "custom_draw_geometry_with_custom_fov(mesh, 20.0)"
   ]
  },
  {
   "cell_type": "code",
   "execution_count": 11,
   "id": "compliant-annex",
   "metadata": {},
   "outputs": [],
   "source": [
    "import cv2\n",
    "# Load an color image in grayscale\n",
    "im_r = cv2.imread('DepthCapture_2021-02-24-22-29-56.png',0)\n",
    "im_g = cv2.imread('DepthCapture_2021-02-24-22-28-36.png',0)\n",
    "im_b = cv2.imread('DepthCapture_2021-02-24-22-28-22.png',0)\n",
    "cv2.imshow('image',im_r)\n",
    "cv2.waitKey(0)\n",
    "cv2.destroyAllWindows()"
   ]
  },
  {
   "cell_type": "code",
   "execution_count": 45,
   "id": "aquatic-parker",
   "metadata": {},
   "outputs": [],
   "source": [
    "import cv2\n",
    "im_t = cv2.imread('test_data/talus_goat_CA_AC_01_MNHN_20210308-172828.png')\n",
    "cv2.imshow('image',im_t)\n",
    "cv2.waitKey(0)\n",
    "cv2.destroyAllWindows()"
   ]
  },
  {
   "cell_type": "code",
   "execution_count": 46,
   "id": "accurate-american",
   "metadata": {},
   "outputs": [
    {
     "data": {
      "text/plain": [
       "True"
      ]
     },
     "execution_count": 46,
     "metadata": {},
     "output_type": "execute_result"
    }
   ],
   "source": [
    "# - convert to GRAY color space\n",
    "img = cv2.cvtColor(im_t, cv2.COLOR_BGR2GRAY)\n",
    "# - save the file as PNG after conversion\n",
    "cv2.imwrite('_opencvGREY.png', img)\n",
    "# - convert to HSV color space (typical for object tracking)\n",
    "#img = cv2.cvtColor(im, cv2.COLOR_BGR2HSV)\n",
    "# - save the file as PNG after conversion\n",
    "#cv2.imwrite(FilePath + FileName + '_opencvHSV' + '.png', img)"
   ]
  },
  {
   "cell_type": "code",
   "execution_count": 48,
   "id": "utility-martin",
   "metadata": {},
   "outputs": [
    {
     "data": {
      "text/plain": [
       "(256, 256)"
      ]
     },
     "execution_count": 48,
     "metadata": {},
     "output_type": "execute_result"
    }
   ],
   "source": [
    "img.shape"
   ]
  },
  {
   "cell_type": "code",
   "execution_count": 3,
   "id": "taken-dividend",
   "metadata": {},
   "outputs": [
    {
     "data": {
      "text/plain": [
       "(600, 600, 3)"
      ]
     },
     "execution_count": 3,
     "metadata": {},
     "output_type": "execute_result"
    }
   ],
   "source": [
    "im_t.shape"
   ]
  },
  {
   "cell_type": "code",
   "execution_count": 12,
   "id": "written-edition",
   "metadata": {},
   "outputs": [],
   "source": [
    "import numpy as np\n",
    "rgb = np.dstack((im_r,im_g,im_b))"
   ]
  },
  {
   "cell_type": "code",
   "execution_count": null,
   "id": "likely-explosion",
   "metadata": {},
   "outputs": [],
   "source": [
    "cv2.imshow('image',rgb)\n",
    "cv2.waitKey(0)\n",
    "cv2.destroyAllWindows()"
   ]
  },
  {
   "cell_type": "code",
   "execution_count": 7,
   "id": "faced-throat",
   "metadata": {},
   "outputs": [],
   "source": [
    "def rotate_view(vis):\n",
    "        ctr = vis.get_view_control()\n",
    "        ctr.rotate(5.0, 0.0)"
   ]
  },
  {
   "cell_type": "code",
   "execution_count": 17,
   "id": "enabling-netherlands",
   "metadata": {},
   "outputs": [
    {
     "name": "stdout",
     "output_type": "stream",
     "text": [
      "Collecting keyboardNote: you may need to restart the kernel to use updated packages.\n",
      "\n",
      "  Downloading keyboard-0.13.5-py3-none-any.whl (58 kB)\n",
      "Installing collected packages: keyboard\n",
      "Successfully installed keyboard-0.13.5\n"
     ]
    }
   ],
   "source": [
    "pip install keyboard"
   ]
  },
  {
   "cell_type": "code",
   "execution_count": 26,
   "id": "careful-music",
   "metadata": {},
   "outputs": [],
   "source": [
    "import numpy as np\n",
    "import open3d as o3d\n",
    "import matplotlib.pyplot as plt\n",
    "\n",
    "import keyboard\n",
    "\n",
    "input_file = \"C:/Franz/UCA_M1/Semester_2/Case_studies/data/_3D_models/talus_goat_CA_AC_01_MNHN.ply\"\n",
    "mesh = o3d.io.read_triangle_mesh(input_file)\n",
    "mesh.compute_vertex_normals()\n",
    "vis = o3d.visualization.Visualizer()\n",
    "o3d.visualization.ViewControl\n",
    "ctr = vis.get_view_control()\n",
    "#glb = custom_draw_geometry_with_camera_trajectory\n",
    "vis.create_window()\n",
    "vis.add_geometry(mesh)\n",
    "vis.run()\n",
    "#depth = vis.capture_depth_float_buffer(False)\n",
    "#image = vis.capture_screen_float_buffer(False)\n",
    "#vis.capture_depth_image(filename=\"test_data/goat_1.png\", do_render=True, depth_scale=500.0)\n",
    "vis.capture_screen_image(filename=\"test_data/goat_1.png\", do_render=True)\n",
    "\n",
    "vis.destroy_window()\n",
    "#o3d.io.write_image(\"test_data/test_dpt.png\", depth)\n",
    "\n",
    "#keyboard.send('esc', do_press=True, do_release=True)\n",
    "#keyboard.press_and_release('esc')"
   ]
  },
  {
   "cell_type": "markdown",
   "id": "grateful-london",
   "metadata": {},
   "source": [
    "## Sampling 3D, rendering 2D images"
   ]
  },
  {
   "cell_type": "code",
   "execution_count": 71,
   "id": "sapphire-processor",
   "metadata": {},
   "outputs": [],
   "source": [
    "import time\n",
    "import open3d as o3d\n",
    "def custom_draw_geometry_with_rotation(pcd,name):\n",
    "    \n",
    "    def rotate_view(vis):\n",
    "        \n",
    "        ctr = vis.get_view_control()\n",
    "        ctr.rotate(5.0, 0.0)\n",
    "        timestr = time.strftime(\"%Y%m%d-%H%M%S\")\n",
    "\n",
    "        #vis.capture_depth_image(filename=\"test_data/goat_1_{}.png\".format(timestr), do_render=True, depth_scale=100.0)\n",
    "        vis.capture_screen_image(filename=\"test_data/\"+name+\"_{}.png\".format(timestr), do_render=True)\n",
    "        return False\n",
    "    \n",
    "    o3d.visualization.draw_geometries_with_animation_callback([pcd],\n",
    "                                                              rotate_view,width=256, height=256)"
   ]
  },
  {
   "cell_type": "code",
   "execution_count": 72,
   "id": "accessible-antibody",
   "metadata": {},
   "outputs": [],
   "source": [
    "input_file = \"C:/Franz/UCA_M1/Semester_2/Case_studies/data/_3D_models/talus_sheep_OA_AC_27_CEPAM.ply\"\n",
    "name = 'talus_sheep_OA_AC_27_CEPAM'\n",
    "mesh = o3d.io.read_triangle_mesh(input_file)\n",
    "mesh.compute_vertex_normals()\n",
    "custom_draw_geometry_with_rotation(mesh, name)"
   ]
  },
  {
   "cell_type": "markdown",
   "id": "hispanic-trading",
   "metadata": {},
   "source": [
    "## Last implementation rendering multiple 2D images from a file"
   ]
  },
  {
   "cell_type": "code",
   "execution_count": 9,
   "id": "whole-labor",
   "metadata": {},
   "outputs": [],
   "source": [
    "import time\n",
    "import open3d as o3d\n",
    "def custom_draw_geometry_with_rotation(pcd,name):\n",
    "    ind_file = 0\n",
    "    def rotate_view(vis):\n",
    "        \n",
    "        ctr = vis.get_view_control()\n",
    "        ctr.rotate(5.0, 0.0)\n",
    "        timestr = time.strftime(\"%Y%m%d-%H%M%S\")\n",
    "        #vis.capture_depth_image(filename=\"test_data/goat_1_{}.png\".format(timestr), do_render=True, depth_scale=100.0)\n",
    "        vis.capture_screen_image(filename=\"test_data/\"+name+\"_{}.png\".format(timestr), do_render=True)\n",
    "        return False\n",
    "    \n",
    "    o3d.visualization.draw_geometries_with_animation_callback([pcd],\n",
    "                                                              rotate_view,width=256, height=256)"
   ]
  },
  {
   "cell_type": "code",
   "execution_count": 8,
   "id": "heated-municipality",
   "metadata": {},
   "outputs": [],
   "source": [
    "input_file = \"C:/Franz/UCA_M1/Semester_2/Case_studies/data/_3D_models/talus_goat_CA_AC_01_MNHN.ply\"\n",
    "name = 'talus_goat_CA_AC_01_MNHN'\n",
    "mesh = o3d.io.read_triangle_mesh(input_file)\n",
    "mesh.compute_vertex_normals()\n",
    "custom_draw_geometry_with_rotation(mesh, name)"
   ]
  },
  {
   "cell_type": "code",
   "execution_count": 3,
   "id": "available-seven",
   "metadata": {},
   "outputs": [
    {
     "name": "stdout",
     "output_type": "stream",
     "text": [
      "1  -  talus_goat_CA_AC_01_MNHN.ply\n",
      "2  -  talus_goat_CA_AC_03_MNHN.ply\n",
      "3  -  talus_goat_CH_AC_00_CEPAM.ply\n",
      "4  -  talus_goat_CH_AC_01_JALES.ply\n",
      "5  -  talus_goat_CH_AC_02_JALES.ply\n",
      "6  -  talus_goat_CH_AC_05_JALES.ply\n",
      "7  -  talus_goat_CH_AC_09_JALES.ply\n",
      "8  -  talus_goat_CH_AC_11_CEPAM.ply\n",
      "9  -  talus_goat_CH_AC_12_CEPAM.ply\n",
      "10  -  talus_mouflon_OAM_AC_00_CEPAM.ply\n",
      "11  -  talus_mouflon_OAM_AC_01_JALES.ply\n",
      "12  -  talus_mouflon_OAM_AC_09_MNHN.ply\n",
      "13  -  talus_mouflon_OAM_AC_14_MNHN.ply\n",
      "14  -  talus_mouflon_OAM_AC_17_MNHN.ply\n",
      "15  -  talus_mouflon_OAM_AC_19_MNHN.ply\n",
      "16  -  talus_mouflon_OAM_AC_22_MNHN.ply\n",
      "17  -  talus_mouflon_OAM_AC_24_MNHN.ply\n",
      "18  -  talus_rupicapra_AC_03_CEPAM.ply\n",
      "19  -  talus_rupicapra_AC_04_CEPAM.ply\n",
      "20  -  talus_rupicapra_AC_05_CEPAM.ply\n",
      "21  -  talus_rupicapra_AC_06_CEPAM.ply\n",
      "22  -  talus_rupicapra_AC_07_CEPAM.ply\n",
      "23  -  talus_rupicapra_AC_08_CEPAM.ply\n",
      "24  -  talus_rupicapra_AC_09_CEPAM.ply\n",
      "25  -  talus_rupicapra_AC_11_JALES.ply\n",
      "26  -  talus_rupicapra_AC_13_JALES.ply\n",
      "27  -  talus_rupicapra_AC_16_JALES.ply\n",
      "28  -  talus_rupicapra_AC_20_MNHN.ply\n",
      "29  -  talus_rupicapra_AC_24_MNHN.ply\n",
      "30  -  talus_rupicapra_AC_26_MNHN.ply\n",
      "31  -  talus_rupicapra_AC_28_MNHN.ply\n",
      "32  -  talus_sheep_OA_AC_01_CEPAM.ply\n",
      "33  -  talus_sheep_OA_AC_02_CEPAM.ply\n",
      "34  -  talus_sheep_OA_AC_04_CEPAM.ply\n",
      "35  -  talus_sheep_OA_AC_06_JALES.ply\n",
      "36  -  talus_sheep_OA_AC_10_JALES.ply\n",
      "37  -  talus_sheep_OA_AC_15_JALES.ply\n",
      "38  -  talus_sheep_OA_AC_17_JALES.ply\n",
      "39  -  talus_sheep_OA_AC_18_JALES.ply\n",
      "40  -  talus_sheep_OA_AC_19_JALES.ply\n",
      "41  -  talus_sheep_OA_AC_22_MNHN.ply\n",
      "42  -  talus_sheep_OA_AC_24_MNHN.ply\n",
      "43  -  talus_sheep_OA_AC_26_CEPAM.ply\n",
      "44  -  talus_sheep_OA_AC_27_CEPAM.ply\n",
      "45  -  talus_sheep_OA_AC_28_CEPAM.ply\n"
     ]
    }
   ],
   "source": [
    "from os import listdir\n",
    "from os.path import isfile, join\n",
    "mypath = \"C:/Franz/UCA_M1/Semester_2/Case_studies/data/_3D_models/\"\n",
    "_3Dfiles = [f for f in listdir(mypath) if isfile(join(mypath, f))]\n",
    "\n",
    "count = 0\n",
    "for _3Dmodel in _3Dfiles:\n",
    "    count += 1\n",
    "    print(count, ' - ',_3Dmodel)\n",
    "    name = _3Dmodel.split('.')[0]\n",
    "    input_file = mypath + _3Dmodel\n",
    "    mesh = o3d.io.read_triangle_mesh(input_file)\n",
    "    mesh.compute_vertex_normals()\n",
    "    custom_draw_geometry_with_rotation(mesh, name)"
   ]
  },
  {
   "cell_type": "markdown",
   "id": "hazardous-stone",
   "metadata": {},
   "source": [
    "### Mirror images to right"
   ]
  },
  {
   "cell_type": "code",
   "execution_count": 61,
   "id": "tough-frontier",
   "metadata": {},
   "outputs": [
    {
     "name": "stdout",
     "output_type": "stream",
     "text": [
      "1  -  talus_goat_CA_AC_01_MNHN.png\n",
      "2  -  talus_goat_CH_AC_09_JALES.png\n",
      "3  -  talus_goat_CH_AC_12_CEPAM.png\n",
      "4  -  talus_rupicapra_AC_04_CEPAM.png\n",
      "5  -  talus_rupicapra_AC_08_CEPAM.png\n",
      "6  -  talus_rupicapra_AC_09_CEPAM.png\n",
      "7  -  talus_rupicapra_AC_13_JALES.png\n",
      "8  -  talus_rupicapra_AC_16_JALES.png\n",
      "9  -  talus_rupicapra_AC_28_MNHN.png\n",
      "10  -  talus_sheep_OA_AC_02_CEPAM.png\n",
      "11  -  talus_sheep_OA_AC_04_CEPAM.png\n",
      "12  -  talus_sheep_OA_AC_19_JALES.png\n",
      "13  -  talus_sheep_OA_AC_24_MNHN.png\n",
      "14  -  talus_sheep_OA_AC_27_CEPAM.png\n",
      "15  -  talus_sheep_OA_AC_28_CEPAM.png\n"
     ]
    }
   ],
   "source": [
    "import cv2\n",
    "from os import listdir\n",
    "from os.path import isfile, join\n",
    "mypath = \"C:/Users/frafa/UCA/Case study/Read_3D_im/TOP_LEFT_change/\"\n",
    "_2D_mirror = [f for f in listdir(mypath) if isfile(join(mypath, f))]\n",
    "count=0\n",
    "for _2Dim in _2D_mirror:\n",
    "    count+=1\n",
    "    print(count, ' - ',_2Dim)\n",
    "    name = _2Dim.split('.')[0]\n",
    "    input_file = mypath + _2Dim\n",
    "    img = cv2.imread(input_file)\n",
    "    img_flip_lr = cv2.flip(img, 1)\n",
    "    cv2.imwrite('C:/Users/frafa/UCA/Case study/Read_3D_im/TOP_LEFT_change/flipped/{}.png'.format(name), img_flip_lr)\n"
   ]
  },
  {
   "cell_type": "markdown",
   "id": "alternative-psychology",
   "metadata": {},
   "source": [
    "### Mirror images to left"
   ]
  },
  {
   "cell_type": "code",
   "execution_count": 62,
   "id": "acceptable-latvia",
   "metadata": {},
   "outputs": [
    {
     "name": "stdout",
     "output_type": "stream",
     "text": [
      "1  -  talus_mouflon_OAM_AC_09_MNHN.png\n",
      "2  -  talus_mouflon_OAM_AC_22_MNHN.png\n",
      "3  -  talus_mouflon_OAM_AC_24_MNHN.png\n"
     ]
    }
   ],
   "source": [
    "import cv2\n",
    "from os import listdir\n",
    "from os.path import isfile, join\n",
    "mypath = \"C:/Users/frafa/UCA/Case study/Read_3D_im/TOP_RIGHT_change/\"\n",
    "_2D_mirror = [f for f in listdir(mypath) if isfile(join(mypath, f))]\n",
    "count=0\n",
    "for _2Dim in _2D_mirror:\n",
    "    count+=1\n",
    "    print(count, ' - ',_2Dim)\n",
    "    name = _2Dim.split('.')[0]\n",
    "    input_file = mypath + _2Dim\n",
    "    img = cv2.imread(input_file)\n",
    "    img_flip_lr = cv2.flip(img, 1)\n",
    "    cv2.imwrite(mypath+'flipped/{}.png'.format(name), img_flip_lr)\n"
   ]
  }
 ],
 "metadata": {
  "kernelspec": {
   "display_name": "Python 3",
   "language": "python",
   "name": "python3"
  },
  "language_info": {
   "codemirror_mode": {
    "name": "ipython",
    "version": 3
   },
   "file_extension": ".py",
   "mimetype": "text/x-python",
   "name": "python",
   "nbconvert_exporter": "python",
   "pygments_lexer": "ipython3",
   "version": "3.7.9"
  }
 },
 "nbformat": 4,
 "nbformat_minor": 5
}
