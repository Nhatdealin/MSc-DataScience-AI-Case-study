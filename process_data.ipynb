{
 "cells": [
  {
   "cell_type": "code",
   "execution_count": 1,
   "metadata": {},
   "outputs": [],
   "source": [
    "import os\n",
    "import numpy as np\n",
    "import matplotlib.pyplot as plt\n",
    "import matplotlib.image as mpimg\n",
    "                                                                                                                                                                                                                                                                                                                                                                                                                                                                                                                                                                                                                                                                            \n",
    "import cv2"
   ]
  },
  {
   "cell_type": "code",
   "execution_count": 2,
   "metadata": {},
   "outputs": [],
   "source": [
    "# defining global variable path\n",
    "image_path = \"./data\"\n",
    "output_path = \"./processed_data\"\n",
    "\n",
    "def loadImages(path):\n",
    "    # Put files into lists and return them as one list of size 4\n",
    "    file_path = os.path.join(image_path, path)\n",
    "    image_files = sorted([os.path.join(file_path, file)\n",
    "         for file in os.listdir(file_path) if      file.endswith('.png')])\n",
    " \n",
    "    return image_files"
   ]
  },
  {
   "cell_type": "code",
   "execution_count": 3,
   "metadata": {},
   "outputs": [],
   "source": [
    "from numpy import *\n",
    "\n",
    "def rof_denoise(im,U_init,tolerance=0.1,tau=0.125,tv_weight=100):\n",
    "  \"\"\" An implementation of the Rudin-Osher-Fatemi (ROF) denoising model\n",
    "    using the numerical procedure presented in eq (11) A. Chambolle (2005).\n",
    "\n",
    "    Input: noisy input image (grayscale), initial guess for U, weight of\n",
    "    the TV-regularizing term, steplength, tolerance for stop criterion.\n",
    "\n",
    "    Output: denoised and detextured image, texture residual. \"\"\"\n",
    "\n",
    "  m,n = im.shape # size of noisy image\n",
    "\n",
    "  # initialize\n",
    "  U = U_init\n",
    "  Px = im # x-component to the dual field\n",
    "  Py = im # y-component of the dual field\n",
    "  error = 1\n",
    "\n",
    "  while (error > tolerance):\n",
    "    Uold = U\n",
    "\n",
    "    # gradient of primal variable\n",
    "    GradUx = np.roll(U,-1,axis=1)-U # x-component of U's gradient\n",
    "    GradUy = np.roll(U,-1,axis=0)-U # y-component of U's gradient\n",
    "\n",
    "    # update the dual varible\n",
    "    PxNew = Px + (tau/tv_weight)*GradUx\n",
    "    PyNew = Py + (tau/tv_weight)*GradUy\n",
    "    NormNew = maximum(1,sqrt(PxNew**2+PyNew**2))\n",
    "\n",
    "    Px = PxNew/NormNew # update of x-component (dual)\n",
    "    Py = PyNew/NormNew # update of y-component (dual)\n",
    "\n",
    "    # update the primal variable\n",
    "    RxPx = np.roll(Px,1,axis=1) # right x-translation of x-component\n",
    "    RyPy = np.roll(Py,1,axis=0) # right y-translation of y-component\n",
    "\n",
    "    DivP = (Px-RxPx)+(Py-RyPy) # divergence of the dual field.\n",
    "    U = im + tv_weight*DivP # update of the primal variable\n",
    "\n",
    "    # update of error\n",
    "    error = linalg.norm(U-Uold)/sqrt(n*m);\n",
    "\n",
    "  return U,im-U # denoised image and texture residual"
   ]
  },
  {
   "cell_type": "code",
   "execution_count": 4,
   "metadata": {},
   "outputs": [],
   "source": [
    "\n",
    "# Display one image\n",
    "def display_one(a, title1 = \"Original\"):\n",
    "    plt.imshow(a, cmap=plt.get_cmap('gray')), plt.title(title1)\n",
    "    plt.xticks([]), plt.yticks([])\n",
    "    plt.show()\n",
    "# Display two images\n",
    "def display(a, b, title1 = \"Original\", title2 = \"Edited\"):\n",
    "    plt.subplot(121), plt.imshow(a, cmap=plt.get_cmap('gray')), plt.title(title1)\n",
    "    plt.xticks([]), plt.yticks([])\n",
    "    plt.subplot(122), plt.imshow(b, cmap=plt.get_cmap('gray')), plt.title(title2)\n",
    "    plt.xticks([]), plt.yticks([])\n",
    "    plt.show()\n",
    "    "
   ]
  },
  {
   "cell_type": "code",
   "execution_count": 31,
   "metadata": {},
   "outputs": [],
   "source": [
    "\n",
    "    \n",
    "# Preprocessing\n",
    "def processing(path):\n",
    "    \n",
    "    # loading image\n",
    "    data = loadImages(path)\n",
    "    # Getting 3 images to work with \n",
    "    img = [cv2.imread(i, cv2.IMREAD_UNCHANGED) for i in data]\n",
    "\n",
    "    display_one(img[0])\n",
    "    print('Original size',img[0].shape)\n",
    "    # --------------------------------\n",
    "    # setting dim of the resize\n",
    "    height = 220\n",
    "    width = 220\n",
    "    dim = (width, height)\n",
    "    res_img = []\n",
    "    for i in range(len(img)):\n",
    "        res = cv2.resize(img[i], dim, interpolation=cv2.INTER_LINEAR)\n",
    "#         res = cv2.resize(img[i], dim)\n",
    "        res_img.append(res)\n",
    "\n",
    "    # Checcking the size\n",
    "    print(\"RESIZED\", res_img[0].shape)\n",
    "    \n",
    "#     # Visualizing one of the images in the array\n",
    "#     original = res_img[0]\n",
    "#     display_one(original)\n",
    "    \n",
    "    # ----------------------------------\n",
    "    # Remove noise\n",
    "    # Gaussian\n",
    "    no_noise = []\n",
    "    for i in range(len(res_img)):\n",
    "        # basic way\n",
    "        image = res_img[i]\n",
    "        blur = cv2.GaussianBlur(image, (5, 5), 0)\n",
    "#         im = np.array(res_img[i])\n",
    "#         U,T = rof_denoise(im,im)\n",
    "\n",
    "#         display(original, image, 'Original', 'Blured')\n",
    "   \n",
    "\n",
    "        # Segmentation\n",
    "        gray = cv2.cvtColor(blur, cv2.COLOR_BGR2GRAY)\n",
    "#         display(image, gray, 'Original', 'GRAY')\n",
    "        print(gray)\n",
    "        ret, thresh = cv2.threshold(gray, 0, 255, cv2.THRESH_BINARY_INV + cv2.THRESH_OTSU)\n",
    "\n",
    "        # Displaying segmented images\n",
    "#         display(original, thresh, 'Original', 'Segmented')\n",
    "\n",
    "\n",
    "        # Further noise removal\n",
    "        kernel = np.ones((3, 3), np.uint8)\n",
    "        opening = cv2.morphologyEx(thresh, cv2.MORPH_OPEN, kernel, iterations=5)\n",
    "\n",
    "        # sure background area\n",
    "        sure_bg = cv2.dilate(opening, kernel, iterations=3)\n",
    "\n",
    "        # Finding sure foreground area\n",
    "        dist_transform = cv2.distanceTransform(opening, cv2.DIST_L2, 3)\n",
    "        ret, sure_fg = cv2.threshold(dist_transform, 0.5 * dist_transform.max(), 255, 0)\n",
    "\n",
    "        # Finding unknown region\n",
    "        sure_fg = np.uint8(sure_fg)\n",
    "        unknown = cv2.subtract(sure_bg, sure_fg)\n",
    "\n",
    "        #Displaying segmented back ground\n",
    "#         display(original, sure_bg, 'Original', 'Segmented Background')\n",
    "\n",
    "\n",
    "        #---------------------------------\n",
    "\n",
    "        # Marker labelling\n",
    "        ret, markers = cv2.connectedComponents(sure_fg)\n",
    "\n",
    "        # Add one to all labels so that sure background is not 0, but 1\n",
    "        markers = markers + 1\n",
    "\n",
    "        # Now, mark the region of unknown with zero\n",
    "        markers[unknown == 255] = 0\n",
    "\n",
    "        markers = cv2.watershed(image, markers)\n",
    "        image[markers == -1] = [255, 0, 0]\n",
    "        # Displaying markers on the image\n",
    "        display(image, markers, 'Original', 'Marked')\n",
    "        file_name = os.path.join(output_path, path , \"image_\" + str(i) +'.png')\n",
    "        cv2.imwrite(file_name,sure_fg)\n",
    "#         cv2.imshow('BGR Image',  np.array(markers, dtype = np.uint8 ))\n",
    "    "
   ]
  },
  {
   "cell_type": "code",
   "execution_count": 30,
   "metadata": {},
   "outputs": [
    {
     "data": {
      "image/png": "[encoded data removed]",
      "text/plain": [
       "<Figure size 432x288 with 1 Axes>"
      ]
     },
     "metadata": {},
     "output_type": "display_data"
    },
    {
     "name": "stdout",
     "output_type": "stream",
     "text": [
      "Original size (764, 1013, 3)\n",
      "RESIZED (220, 220, 3)\n",
      "[[255 255 255 ... 255 255 255]\n",
      " [255 255 255 ... 255 255 255]\n",
      " [255 255 255 ... 255 255 255]\n",
      " ...\n",
      " [255 255 255 ... 255 255 255]\n",
      " [255 255 255 ... 255 255 255]\n",
      " [255 255 255 ... 255 255 255]]\n"
     ]
    },
    {
     "data": {
      "image/png": "[encoded data removed]",
      "text/plain": [
       "<Figure size 432x288 with 2 Axes>"
      ]
     },
     "metadata": {},
     "output_type": "display_data"
    }
   ],
   "source": [
    "processing(\"goat\")"
   ]
  }
 ],
 "metadata": {
  "kernelspec": {
   "display_name": "Python 3",
   "language": "python",
   "name": "python3"
  },
  "language_info": {
   "codemirror_mode": {
    "name": "ipython",
    "version": 3
   },
   "file_extension": ".py",
   "mimetype": "text/x-python",
   "name": "python",
   "nbconvert_exporter": "python",
   "pygments_lexer": "ipython3",
   "version": "3.8.5"
  }
 },
 "nbformat": 4,
 "nbformat_minor": 4
}
