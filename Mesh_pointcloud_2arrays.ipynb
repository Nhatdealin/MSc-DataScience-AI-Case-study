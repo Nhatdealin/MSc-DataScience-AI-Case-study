{
 "cells": [
  {
   "cell_type": "markdown",
   "id": "electronic-incidence",
   "metadata": {},
   "source": [
    "## Open point cloud and triangle mesh"
   ]
  },
  {
   "cell_type": "code",
   "execution_count": 8,
   "id": "focal-spelling",
   "metadata": {},
   "outputs": [
    {
     "name": "stdout",
     "output_type": "stream",
     "text": [
      "Load a ply point cloud, print it, and render it\n"
     ]
    }
   ],
   "source": [
    "import numpy as np\n",
    "import open3d as o3d\n",
    "print(\"Load a ply point cloud, print it, and render it\")\n",
    "input_file = \"C:/Franz/UCA_M1/Semester_2/Case_studies/data/talus_goat_CA_AC_01_MNHN.ply\"\n",
    "mesh = o3d.io.read_triangle_mesh(input_file) # Read the point cloud\n",
    "pcd = o3d.io.read_point_cloud(input_file)\n",
    "mesh.compute_vertex_normals()\n",
    "o3d.visualization.draw_geometries([pcd],\n",
    "                                  zoom=0.9412,\n",
    "#                                   front=[0.0, 0.0, 0.0],\n",
    "                                  front=[0.4257, -0.2125, -0.8795],\n",
    "                                  lookat=[2.6172, 2.0475, 1.532],\n",
    "#                                   lookat=[0.0, 0.0, 0.0],\n",
    "#                                   up=[0.0, -0.8, 0.2])\n",
    "                                  up=[-0.0694, -0.9768, 0.2024])"
   ]
  },
  {
   "cell_type": "code",
   "execution_count": 3,
   "id": "crucial-motion",
   "metadata": {},
   "outputs": [
    {
     "data": {
      "text/plain": [
       "PointCloud with 303279 points."
      ]
     },
     "execution_count": 3,
     "metadata": {},
     "output_type": "execute_result"
    }
   ],
   "source": [
    "o3d.io.read_point_cloud(input_file)"
   ]
  },
  {
   "cell_type": "markdown",
   "id": "seven-option",
   "metadata": {},
   "source": [
    "## Generating new mesh test and save image"
   ]
  },
  {
   "cell_type": "code",
   "execution_count": 4,
   "id": "laden-seminar",
   "metadata": {},
   "outputs": [
    {
     "name": "stdout",
     "output_type": "stream",
     "text": [
      "xyz\n",
      "[[-3.         -3.          0.17846472]\n",
      " [-2.985      -3.          0.17440115]\n",
      " [-2.97       -3.          0.17063709]\n",
      " ...\n",
      " [ 2.97        3.          0.17063709]\n",
      " [ 2.985       3.          0.17440115]\n",
      " [ 3.          3.          0.17846472]]\n",
      "xyz_load\n",
      "[[-3.         -3.          0.17846472]\n",
      " [-2.985      -3.          0.17440115]\n",
      " [-2.97       -3.          0.17063709]\n",
      " ...\n",
      " [ 2.97        3.          0.17063709]\n",
      " [ 2.985       3.          0.17440115]\n",
      " [ 3.          3.          0.17846472]]\n",
      "(160801, 3)\n"
     ]
    }
   ],
   "source": [
    "# generate some neat n times 3 matrix using a variant of sync function\n",
    "x = np.linspace(-3, 3, 401)\n",
    "mesh_x, mesh_y = np.meshgrid(x, x)\n",
    "z = np.sinc((np.power(mesh_x, 2) + np.power(mesh_y, 2)))\n",
    "z_norm = (z - z.min()) / (z.max() - z.min())\n",
    "xyz = np.zeros((np.size(mesh_x), 3))\n",
    "xyz[:, 0] = np.reshape(mesh_x, -1)\n",
    "xyz[:, 1] = np.reshape(mesh_y, -1)\n",
    "xyz[:, 2] = np.reshape(z_norm, -1)\n",
    "print('xyz')\n",
    "print(xyz)\n",
    "\n",
    "# Pass xyz to Open3D.o3d.geometry.PointCloud and visualize\n",
    "pcd = o3d.geometry.PointCloud()\n",
    "pcd.points = o3d.utility.Vector3dVector(xyz)\n",
    "o3d.io.write_point_cloud(\"test_data/sync.ply\", pcd)\n",
    "\n",
    "# Load saved point cloud and visualize it\n",
    "pcd_load = o3d.io.read_point_cloud(\"test_data/sync.ply\")\n",
    "o3d.visualization.draw_geometries([pcd_load])\n",
    "\n",
    "# convert Open3D.o3d.geometry.PointCloud to numpy array\n",
    "xyz_load = np.asarray(pcd_load.points)\n",
    "print('xyz_load')\n",
    "print(xyz_load)\n",
    "print(xyz_load.shape)\n",
    "\n",
    "# save z_norm as an image (change [0,1] range to [0,255] range with uint8 type)\n",
    "img = o3d.geometry.Image((z_norm * 255).astype(np.uint8))\n",
    "o3d.io.write_image(\"test_data/sync.png\", img)\n",
    "o3d.visualization.draw_geometries([img])"
   ]
  },
  {
   "cell_type": "code",
   "execution_count": 7,
   "id": "flying-lightning",
   "metadata": {},
   "outputs": [
    {
     "name": "stdout",
     "output_type": "stream",
     "text": [
      "xyz_load\n",
      "[[ -6.68406677   1.37709808 -10.08659935]\n",
      " [ -6.6599865    1.37709808 -10.10533333]\n",
      " [ -7.36937904   1.37709808  -8.78660011]\n",
      " ...\n",
      " [  4.55410004   3.22867584  -1.13394165]\n",
      " [  4.70747757   3.08411026  -1.02860641]\n",
      " [  4.64929199   3.30615044  -0.97562218]]\n",
      "(303279, 3)\n"
     ]
    }
   ],
   "source": [
    "# Load saved point cloud and visualize it\n",
    "pcd_load = pcd\n",
    "o3d.visualization.draw_geometries([pcd_load])\n",
    "\n",
    "# convert Open3D.o3d.geometry.PointCloud to numpy array\n",
    "xyz_load = np.asarray(pcd_load.points)\n",
    "print('xyz_load')\n",
    "print(xyz_load)\n",
    "print(xyz_load.shape)"
   ]
  },
  {
   "cell_type": "code",
   "execution_count": 9,
   "id": "laughing-visibility",
   "metadata": {},
   "outputs": [],
   "source": [
    "z = xyz_load[:,2]\n",
    "z_norm = (z - z.min()) / (z.max() - z.min())"
   ]
  },
  {
   "cell_type": "code",
   "execution_count": 10,
   "id": "unknown-tactics",
   "metadata": {},
   "outputs": [],
   "source": [
    "import cv2\n",
    "# Load an color image in grayscale\n",
    "img = cv2.imread('DepthCapture_2021-02-24-22-29-56.png',0)\n",
    "cv2.imshow('image',img)\n",
    "cv2.waitKey(0)\n",
    "cv2.destroyAllWindows()"
   ]
  },
  {
   "cell_type": "code",
   "execution_count": 11,
   "id": "meaning-harvest",
   "metadata": {},
   "outputs": [
    {
     "data": {
      "text/plain": [
       "array([[0, 0, 0, ..., 0, 0, 0],\n",
       "       [0, 0, 0, ..., 0, 0, 0],\n",
       "       [0, 0, 0, ..., 0, 0, 0],\n",
       "       ...,\n",
       "       [0, 0, 0, ..., 0, 0, 0],\n",
       "       [0, 0, 0, ..., 0, 0, 0],\n",
       "       [0, 0, 0, ..., 0, 0, 0]], dtype=uint8)"
      ]
     },
     "execution_count": 11,
     "metadata": {},
     "output_type": "execute_result"
    }
   ],
   "source": [
    "img"
   ]
  },
  {
   "cell_type": "code",
   "execution_count": 12,
   "id": "identical-spirit",
   "metadata": {},
   "outputs": [
    {
     "name": "stdout",
     "output_type": "stream",
     "text": [
      "[Open3D WARNING] Write PNG failed: image has no data.\n"
     ]
    }
   ],
   "source": [
    "# save z_norm as an image (change [0,1] range to [0,255] range with uint8 type)\n",
    "img = o3d.geometry.Image((z_norm * 255).astype(np.uint8))\n",
    "o3d.io.write_image(\"test_data/sync.png\", img)\n",
    "o3d.visualization.draw_geometries([img])"
   ]
  },
  {
   "cell_type": "code",
   "execution_count": 7,
   "id": "pregnant-conjunction",
   "metadata": {},
   "outputs": [],
   "source": [
    "def custom_draw_geometry_with_rotation(pcd):\n",
    "\n",
    "    def rotate_view(vis):\n",
    "        ctr = vis.get_view_control()\n",
    "        ctr.rotate(1.0, 0.0)\n",
    "        return False\n",
    "\n",
    "    o3d.visualization.draw_geometries_with_animation_callback([pcd],\n",
    "                                                              rotate_view)"
   ]
  },
  {
   "cell_type": "markdown",
   "id": "heated-allen",
   "metadata": {},
   "source": [
    "## New function frontal rotation"
   ]
  },
  {
   "cell_type": "code",
   "execution_count": 21,
   "id": "intended-bradford",
   "metadata": {},
   "outputs": [],
   "source": [
    "def custom_draw_geometry_with_rotation(pcd):\n",
    "\n",
    "    def rotate_view(vis):\n",
    "        ctr = vis.get_view_control()\n",
    "        ctr.rotate(1.0, 0.0)\n",
    "        return False\n",
    "\n",
    "    o3d.visualization.draw_geometries_with_animation_callback([pcd],\n",
    "                                                              rotate_view)"
   ]
  },
  {
   "cell_type": "code",
   "execution_count": 22,
   "id": "nasty-involvement",
   "metadata": {},
   "outputs": [],
   "source": [
    "custom_draw_geometry_with_rotation(mesh)"
   ]
  },
  {
   "cell_type": "markdown",
   "id": "relevant-skill",
   "metadata": {},
   "source": [
    "## Same function as draw geometries"
   ]
  },
  {
   "cell_type": "code",
   "execution_count": 13,
   "id": "architectural-march",
   "metadata": {},
   "outputs": [],
   "source": [
    "def custom_draw_geometry(pcd):\n",
    "    # The following code achieves the same effect as:\n",
    "    # o3d.visualization.draw_geometries([pcd])\n",
    "    vis = o3d.visualization.Visualizer()\n",
    "    vis.create_window()\n",
    "    vis.add_geometry(pcd)\n",
    "    vis.run()\n",
    "    vis.destroy_window()"
   ]
  },
  {
   "cell_type": "code",
   "execution_count": 14,
   "id": "cellular-supervisor",
   "metadata": {},
   "outputs": [],
   "source": [
    "custom_draw_geometry(mesh)"
   ]
  },
  {
   "cell_type": "code",
   "execution_count": 15,
   "id": "mighty-piece",
   "metadata": {},
   "outputs": [],
   "source": [
    "def custom_draw_geometry_with_custom_fov(pcd, fov_step):\n",
    "    vis = o3d.visualization.Visualizer()\n",
    "    vis.create_window()\n",
    "    vis.add_geometry(pcd)\n",
    "    ctr = vis.get_view_control()\n",
    "    print(\"Field of view (before changing) %.2f\" % ctr.get_field_of_view())\n",
    "    ctr.change_field_of_view(step=fov_step)\n",
    "    print(\"Field of view (after changing) %.2f\" % ctr.get_field_of_view())\n",
    "    vis.run()\n",
    "    vis.destroy_window()"
   ]
  },
  {
   "cell_type": "code",
   "execution_count": 17,
   "id": "breeding-hospital",
   "metadata": {},
   "outputs": [
    {
     "name": "stdout",
     "output_type": "stream",
     "text": [
      "Field of view (before changing) 60.00\n",
      "Field of view (after changing) 90.00\n"
     ]
    }
   ],
   "source": [
    "custom_draw_geometry_with_custom_fov(pcd, 90.0)"
   ]
  },
  {
   "cell_type": "code",
   "execution_count": 18,
   "id": "demonstrated-interaction",
   "metadata": {},
   "outputs": [],
   "source": [
    "import matplotlib.pyplot as plt\n",
    "vis = o3d.visualization.Visualizer()\n",
    "ctr = vis.get_view_control()\n",
    "#glb = custom_draw_geometry_with_camera_trajectory\n",
    "vis.create_window()\n",
    "vis.add_geometry(mesh)\n",
    "vis.run()\n",
    "depth = vis.capture_depth_float_buffer(False)\n",
    "image = vis.capture_screen_float_buffer(False)\n",
    "# plt.imsave(\"test_data/depth/{:05d}.png\".format(glb.index),\\\n",
    "#         np.asarray(depth), dpi = 1)\n",
    "# plt.imsave(\"test_data/image/{:05d}.png\".format(glb.index),\\\n",
    "#         np.asarray(image), dpi = 1)\n",
    "vis.destroy_window()"
   ]
  },
  {
   "cell_type": "code",
   "execution_count": 26,
   "id": "actual-discussion",
   "metadata": {},
   "outputs": [],
   "source": [
    "o3d.visualization.draw_geometries([mesh],\n",
    "                                  width=512, height=512, left=20, top=20,\n",
    "                                  zoom=0.9412,\n",
    "                                  front=[0.4257, -0.2125, -0.8795],\n",
    "                                  lookat=[2.6172, 2.0475, 1.532],\n",
    "                                  up=[-0.0694, -0.9768, 0.2024])"
   ]
  },
  {
   "cell_type": "markdown",
   "id": "negative-proportion",
   "metadata": {},
   "source": [
    "## Settings for 3 faces"
   ]
  },
  {
   "cell_type": "code",
   "execution_count": null,
   "id": "labeled-pacific",
   "metadata": {},
   "outputs": [],
   "source": [
    "## frontal\n",
    "{\n",
    "\t\"class_name\" : \"ViewTrajectory\",\n",
    "\t\"interval\" : 29,\n",
    "\t\"is_loop\" : false,\n",
    "\t\"trajectory\" : \n",
    "\t[\n",
    "\t\t{\n",
    "\t\t\t\"boundingbox_max\" : [ 11.244466781616211, 13.512592315673828, 9.9423732757568359 ],\n",
    "\t\t\t\"boundingbox_min\" : [ -9.8325786590576172, -10.730168342590332, -16.346038818359375 ],\n",
    "\t\t\t\"field_of_view\" : 60.0,\n",
    "\t\t\t\"front\" : [ -0.21804549937163129, -0.75319770061983815, -0.62060404767030375 ],\n",
    "\t\t\t\"lookat\" : [ -0.083235890571024249, 5.3312632222438845, -1.0216309515127211 ],\n",
    "\t\t\t\"up\" : [ -0.032123132940909301, -0.63002126999070462, 0.77591320628621896 ],\n",
    "\t\t\t\"zoom\" : 0.94120000000000004\n",
    "\t\t}\n",
    "\t],\n",
    "\t\"version_major\" : 1,\n",
    "\t\"version_minor\" : 0\n",
    "}"
   ]
  },
  {
   "cell_type": "code",
   "execution_count": null,
   "id": "consistent-verification",
   "metadata": {},
   "outputs": [],
   "source": [
    "{\n",
    "\t\"class_name\" : \"ViewTrajectory\",\n",
    "\t\"interval\" : 29,\n",
    "\t\"is_loop\" : false,\n",
    "\t\"trajectory\" : \n",
    "\t[\n",
    "\t\t{\n",
    "\t\t\t\"boundingbox_max\" : [ 11.244466781616211, 13.512592315673828, 9.9423732757568359 ],\n",
    "\t\t\t\"boundingbox_min\" : [ -9.8325786590576172, -10.730168342590332, -16.346038818359375 ],\n",
    "\t\t\t\"field_of_view\" : 60.0,\n",
    "\t\t\t\"front\" : [ 0.070878400231908847, -0.75882955451385359, -0.64742100643775224 ],\n",
    "\t\t\t\"lookat\" : [ -0.95480318425883659, 5.4455189331947995, -1.0179497201169783 ],\n",
    "\t\t\t\"up\" : [ 0.030612680558826724, -0.64709286128075716, 0.76179635905436438 ],\n",
    "\t\t\t\"zoom\" : 0.94120000000000004\n",
    "\t\t}\n",
    "\t],\n",
    "\t\"version_major\" : 1,\n",
    "\t\"version_minor\" : 0\n",
    "}"
   ]
  },
  {
   "cell_type": "code",
   "execution_count": null,
   "id": "bridal-reader",
   "metadata": {},
   "outputs": [],
   "source": [
    "{\n",
    "\t\"class_name\" : \"ViewTrajectory\",\n",
    "\t\"interval\" : 29,\n",
    "\t\"is_loop\" : false,\n",
    "\t\"trajectory\" : \n",
    "\t[\n",
    "\t\t{\n",
    "\t\t\t\"boundingbox_max\" : [ 11.244466781616211, 13.512592315673828, 9.9423732757568359 ],\n",
    "\t\t\t\"boundingbox_min\" : [ -9.8325786590576172, -10.730168342590332, -16.346038818359375 ],\n",
    "\t\t\t\"field_of_view\" : 60.0,\n",
    "\t\t\t\"front\" : [ -0.99831913265793937, 0.035955670024447613, -0.045454363511028044 ],\n",
    "\t\t\t\"lookat\" : [ -0.88091834800516555, 2.562232313308348, -1.0601555487524728 ],\n",
    "\t\t\t\"up\" : [ -0.057837826509292929, -0.66816787085058726, 0.74175904590889485 ],\n",
    "\t\t\t\"zoom\" : 0.94120000000000004\n",
    "\t\t}\n",
    "\t],\n",
    "\t\"version_major\" : 1,\n",
    "\t\"version_minor\" : 0\n",
    "}"
   ]
  },
  {
   "cell_type": "markdown",
   "id": "joined-ghost",
   "metadata": {},
   "source": [
    "## Function with camera trajectory"
   ]
  },
  {
   "cell_type": "code",
   "execution_count": 38,
   "id": "narrow-dictionary",
   "metadata": {},
   "outputs": [],
   "source": [
    "def custom_draw_geometry_with_camera_trajectory(pcd):\n",
    "    custom_draw_geometry_with_camera_trajectory.index = -1\n",
    "    custom_draw_geometry_with_camera_trajectory.trajectory =\\\n",
    "            o3d.io.read_pinhole_camera_trajectory(\n",
    "                    \"../../test_data/camera_trajectory.json\")\n",
    "    custom_draw_geometry_with_camera_trajectory.vis = o3d.visualization.Visualizer(\n",
    "    )\n",
    "    if not os.path.exists(\"../../test_data/image/\"):\n",
    "        os.makedirs(\"../../test_data/image/\")\n",
    "    if not os.path.exists(\"../../test_data/depth/\"):\n",
    "        os.makedirs(\"../../test_data/depth/\")\n",
    "\n",
    "    def move_forward(vis):\n",
    "        # This function is called within the o3d.visualization.Visualizer::run() loop\n",
    "        # The run loop calls the function, then re-render\n",
    "        # So the sequence in this function is to:\n",
    "        # 1. Capture frame\n",
    "        # 2. index++, check ending criteria\n",
    "        # 3. Set camera\n",
    "        # 4. (Re-render)\n",
    "        ctr = vis.get_view_control()\n",
    "        glb = custom_draw_geometry_with_camera_trajectory\n",
    "        if glb.index >= 0:\n",
    "            print(\"Capture image {:05d}\".format(glb.index))\n",
    "            depth = vis.capture_depth_float_buffer(False)\n",
    "            image = vis.capture_screen_float_buffer(False)\n",
    "            plt.imsave(\"../../test_data/depth/{:05d}.png\".format(glb.index),\\\n",
    "                    np.asarray(depth), dpi = 1)\n",
    "            plt.imsave(\"../../test_data/image/{:05d}.png\".format(glb.index),\\\n",
    "                    np.asarray(image), dpi = 1)\n",
    "            #vis.capture_depth_image(\"depth/{:05d}.png\".format(glb.index), False)\n",
    "            #vis.capture_screen_image(\"image/{:05d}.png\".format(glb.index), False)\n",
    "        glb.index = glb.index + 1\n",
    "        if glb.index < len(glb.trajectory.parameters):\n",
    "            ctr.convert_from_pinhole_camera_parameters(\n",
    "                glb.trajectory.parameters[glb.index])\n",
    "        else:\n",
    "            custom_draw_geometry_with_camera_trajectory.vis.\\\n",
    "                    register_animation_callback(None)\n",
    "        return False\n",
    "\n",
    "    vis = custom_draw_geometry_with_camera_trajectory.vis\n",
    "    vis.create_window()\n",
    "    vis.add_geometry(pcd)\n",
    "    vis.get_render_option().load_from_json(\"../../test_data/renderoption.json\")\n",
    "    vis.register_animation_callback(move_forward)\n",
    "    vis.run()\n",
    "    vis.destroy_window()"
   ]
  }
 ],
 "metadata": {
  "kernelspec": {
   "display_name": "Python 3",
   "language": "python",
   "name": "python3"
  },
  "language_info": {
   "codemirror_mode": {
    "name": "ipython",
    "version": 3
   },
   "file_extension": ".py",
   "mimetype": "text/x-python",
   "name": "python",
   "nbconvert_exporter": "python",
   "pygments_lexer": "ipython3",
   "version": "3.7.9"
  }
 },
 "nbformat": 4,
 "nbformat_minor": 5
}
